{
 "cells": [
  {
   "cell_type": "code",
   "execution_count": 1,
   "metadata": {},
   "outputs": [],
   "source": [
    "import tensorflow as tf\n",
    "\n",
    "import numpy as np\n",
    "import os\n",
    "import time"
   ]
  },
  {
   "cell_type": "code",
   "execution_count": 2,
   "metadata": {},
   "outputs": [],
   "source": [
    "def generate(text):\n",
    "  states = None\n",
    "  next_char = tf.constant([text])\n",
    "  result = [next_char]\n",
    "  one_step_reloaded = tf.saved_model.load('one_step')\n",
    "  for n in range(100):\n",
    "    \n",
    "    next_char, states = one_step_reloaded.generate_one_step(next_char, states=states)\n",
    "    if next_char=='C':\n",
    "      break\n",
    "    result.append(next_char)\n",
    "\n",
    "\n",
    "  return tf.strings.join(result)[0].numpy().decode(\"utf-8\")"
   ]
  },
  {
   "cell_type": "code",
   "execution_count": 4,
   "metadata": {},
   "outputs": [
    {
     "data": {
      "text/plain": [
       "'Caller: We need a plumber eeniss yohnt Thee red rs\\r\\n2Botoot yor: Wwancte eledddr t: $) \\u200bYOUR N7722Hot: E) $7234visg Sxapmmber'"
      ]
     },
     "execution_count": 4,
     "metadata": {},
     "output_type": "execute_result"
    }
   ],
   "source": [
    "generate('Caller: I need a plumber')"
   ]
  }
 ],
 "metadata": {
  "kernelspec": {
   "display_name": "Python 3",
   "language": "python",
   "name": "python3"
  },
  "language_info": {
   "codemirror_mode": {
    "name": "ipython",
    "version": 3
   },
   "file_extension": ".py",
   "mimetype": "text/x-python",
   "name": "python",
   "nbconvert_exporter": "python",
   "pygments_lexer": "ipython3",
   "version": "3.9.0"
  },
  "orig_nbformat": 4
 },
 "nbformat": 4,
 "nbformat_minor": 2
}
