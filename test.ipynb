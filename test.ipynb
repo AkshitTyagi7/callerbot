{
 "cells": [
  {
   "cell_type": "code",
   "execution_count": 5,
   "metadata": {},
   "outputs": [
    {
     "name": "stdout",
     "output_type": "stream",
     "text": [
      "Caller: We need a plumber\n",
      "Bot: Is this an emergency ?\n",
      "\n"
     ]
    },
    {
     "name": "stderr",
     "output_type": "stream",
     "text": [
      "[nltk_data] Downloading package punkt to\n",
      "[nltk_data]     C:\\Users\\aksih\\AppData\\Roaming\\nltk_data...\n",
      "[nltk_data]   Package punkt is already up-to-date!\n"
     ]
    }
   ],
   "source": [
    "import random\n",
    "import json\n",
    "import pickle\n",
    "import numpy as np \n",
    "import nltk\n",
    "from nltk.stem import WordNetLemmatizer\n",
    "from keras.models import load_model\n",
    "import speech_recognition as sr\n",
    "import chatting\n",
    "nltk.download('punkt')\n",
    "\n",
    "\n",
    "lemmatizer=WordNetLemmatizer()\n",
    "intents=json.loads((open('training.json')).read())\n",
    "\n",
    "words= pickle.load(open('words.pkl','rb'))\n",
    "classes=pickle.load(open('classes.pkl','rb'))\n",
    "model=load_model('threat-detect.h5')\n",
    "def clean_up_sentence(sentence):\n",
    "    sentence_words=nltk.word_tokenize(sentence)\n",
    "    sentence_words=[lemmatizer.lemmatize(word) for word in sentence_words]\n",
    "    return sentence_words\n",
    "\n",
    "def bag_of_words(sentnece):\n",
    "    sentnece_words=clean_up_sentence(sentnece)\n",
    "    bag=[0]*len(words)\n",
    "    for w in sentnece_words:\n",
    "        for i,word in enumerate(words):\n",
    "            if word==w:\n",
    "                bag[i]=1\n",
    "    return np.array(bag)\n",
    "\n",
    "def predict_class(senetence):\n",
    "    bow=bag_of_words(senetence)\n",
    "    res=model.predict(np.array([bow]))[0]\n",
    "    Error_Threshold=0.1\n",
    "    # print(bow)\n",
    "    # print(res)\n",
    "    results=[[i,r] for i,r in enumerate(res) if r>Error_Threshold]\n",
    "\n",
    "    results.sort(key=lambda x: x[1],reverse=True)\n",
    "    return_list=[]\n",
    "    # print(results)\n",
    "    for r in results:\n",
    "        return_list.append({'intent':classes[r[0]], 'probability':str(r[1])})\n",
    "    return return_list\n",
    "def get_response(intents_list,intents_json):\n",
    "    tag=intents_list[0]['intent']\n",
    "    list_of_intents=intents_json['intents']\n",
    "    for i in list_of_intents:\n",
    "        if i['tag']==tag:\n",
    "            result=random.choice(i['responses'])\n",
    "            break\n",
    "    return result\n",
    "def guess(inputtext):\n",
    "    ints=predict_class(inputtext)\n",
    "    res=get_response(ints,intents)\n",
    "    probability=float(ints[0]['probability'])\n",
    "    print(probability<0.6)\n",
    "    if probability<0.6:\n",
    "        result=chatting.generate(inputtext)\n",
    "        print(result)\n",
    "        return result\n",
    "    print(res)\n",
    "    return(res)\n"
   ]
  },
  {
   "cell_type": "code",
   "execution_count": 2,
   "metadata": {},
   "outputs": [
    {
     "name": "stderr",
     "output_type": "stream",
     "text": [
      "[nltk_data] Downloading package wordnet to\n",
      "[nltk_data]     C:\\Users\\aksih\\AppData\\Roaming\\nltk_data...\n",
      "[nltk_data]   Package wordnet is already up-to-date!\n",
      "[nltk_data] Downloading package punkt to\n",
      "[nltk_data]     C:\\Users\\aksih\\AppData\\Roaming\\nltk_data...\n",
      "[nltk_data]   Package punkt is already up-to-date!\n"
     ]
    },
    {
     "data": {
      "text/plain": [
       "True"
      ]
     },
     "execution_count": 2,
     "metadata": {},
     "output_type": "execute_result"
    }
   ],
   "source": [
    "nltk.download('wordnet')\n",
    "nltk.download('punkt')\n"
   ]
  },
  {
   "cell_type": "code",
   "execution_count": 6,
   "metadata": {},
   "outputs": [
    {
     "name": "stdout",
     "output_type": "stream",
     "text": [
      "True\n",
      "what is the esitmated cost? hnician to help you right away. What is your name?\n",
      "\n"
     ]
    },
    {
     "data": {
      "text/plain": [
       "'what is the esitmated cost? hnician to help you right away. What is your name?\\r\\n'"
      ]
     },
     "execution_count": 6,
     "metadata": {},
     "output_type": "execute_result"
    }
   ],
   "source": [
    "guess('Caller\" Hi I need a plumber')\n"
   ]
  }
 ],
 "metadata": {
  "kernelspec": {
   "display_name": "Python 3",
   "language": "python",
   "name": "python3"
  },
  "language_info": {
   "codemirror_mode": {
    "name": "ipython",
    "version": 3
   },
   "file_extension": ".py",
   "mimetype": "text/x-python",
   "name": "python",
   "nbconvert_exporter": "python",
   "pygments_lexer": "ipython3",
   "version": "3.9.0"
  },
  "orig_nbformat": 4
 },
 "nbformat": 4,
 "nbformat_minor": 2
}
